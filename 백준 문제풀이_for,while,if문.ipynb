{
 "cells": [
  {
   "cell_type": "markdown",
   "metadata": {},
   "source": [
    "##10871번\n",
    "#입력값\n",
    "10 5\n",
    "1 10 4 9 2 3 8 5 7 6\n",
    "#출력값\n",
    "1 4 2 3"
   ]
  },
  {
   "cell_type": "code",
   "execution_count": 2,
   "metadata": {},
   "outputs": [
    {
     "name": "stdout",
     "output_type": "stream",
     "text": [
      "10 5\n",
      "1 10 4\n",
      "1 4 "
     ]
    }
   ],
   "source": [
    "#풀이 1\n",
    "number = input()\n",
    "a, b = number.split(\" \")\n",
    "n_list = input().split(\" \")\n",
    "for i in n_list:\n",
    "    if int(i) < int(b):\n",
    "        print(i, end =\" \")"
   ]
  },
  {
   "cell_type": "code",
   "execution_count": 3,
   "metadata": {},
   "outputs": [
    {
     "name": "stdout",
     "output_type": "stream",
     "text": [
      "10 5 \n",
      "1 10 4\n",
      "1 4 "
     ]
    }
   ],
   "source": [
    "#풀이 2\n",
    "a, b = map(int,input().split())\n",
    "n_list = input().split()\n",
    "for i in n_list:\n",
    "    if int(i)< b:\n",
    "        print(i, end =\" \")"
   ]
  },
  {
   "cell_type": "markdown",
   "metadata": {},
   "source": [
    "##10951번"
   ]
  },
  {
   "cell_type": "code",
   "execution_count": null,
   "metadata": {},
   "outputs": [
    {
     "name": "stdout",
     "output_type": "stream",
     "text": [
      "1 2 \n",
      "3\n",
      "2 3 \n",
      "5\n"
     ]
    }
   ],
   "source": [
    "while True:\n",
    "    try: a, b = map(int, input().split())\n",
    "    except:break\n",
    "    print(a+b)\n"
   ]
  },
  {
   "cell_type": "markdown",
   "metadata": {},
   "source": [
    "##15552번\n",
    "import sys\n",
    "sys.stdin.readline() 가 관건"
   ]
  },
  {
   "cell_type": "code",
   "execution_count": 11,
   "metadata": {},
   "outputs": [
    {
     "name": "stdout",
     "output_type": "stream",
     "text": [
      "1\n",
      "1 2\n",
      "3\n"
     ]
    }
   ],
   "source": [
    "import sys\n",
    "T = int(input())\n",
    "for i in range(T):\n",
    "    A,B = map(int,sys.stdin.readline().split())\n",
    "    print(A+B)\n",
    "    "
   ]
  },
  {
   "cell_type": "markdown",
   "metadata": {},
   "source": [
    "##2884번"
   ]
  },
  {
   "cell_type": "code",
   "execution_count": 7,
   "metadata": {},
   "outputs": [
    {
     "name": "stdout",
     "output_type": "stream",
     "text": [
      "23 40\n",
      "22 55\n"
     ]
    }
   ],
   "source": [
    "h,m = map(int,input().split())\n",
    "\n",
    "if m - 45 >= 0:\n",
    "    print(\"{} {}\".format(h, m -45))\n",
    "else:\n",
    "    if h-1 >= 0:\n",
    "        print(\"{} {}\".format(h-1,m+15))\n",
    "    if h -1< 0:\n",
    "        print(\"{} {}\".format(23,m+15))"
   ]
  },
  {
   "cell_type": "markdown",
   "metadata": {},
   "source": [
    "##1330번"
   ]
  },
  {
   "cell_type": "code",
   "execution_count": 10,
   "metadata": {},
   "outputs": [
    {
     "name": "stdout",
     "output_type": "stream",
     "text": [
      "1 5\n",
      "<\n"
     ]
    }
   ],
   "source": [
    "A,B = map(int,input().split())\n",
    "if A>B:\n",
    "    print(\">\")\n",
    "elif A<B:\n",
    "    print(\"<\")\n",
    "else:\n",
    "    print(\"==\")"
   ]
  },
  {
   "cell_type": "markdown",
   "metadata": {},
   "source": [
    "##9498번"
   ]
  },
  {
   "cell_type": "code",
   "execution_count": 11,
   "metadata": {},
   "outputs": [
    {
     "name": "stdout",
     "output_type": "stream",
     "text": [
      "75\n",
      "C\n"
     ]
    }
   ],
   "source": [
    "score = int(input())\n",
    "if 90<=score<=100:\n",
    "    print(\"A\")\n",
    "elif score>=80:\n",
    "    print(\"B\")\n",
    "elif score >=70:\n",
    "    print(\"C\")\n",
    "elif score >=60:\n",
    "    print(\"D\")\n",
    "else:\n",
    "    print(\"F\")\n",
    "        "
   ]
  },
  {
   "cell_type": "markdown",
   "metadata": {},
   "source": [
    "##2753번"
   ]
  },
  {
   "cell_type": "code",
   "execution_count": 15,
   "metadata": {},
   "outputs": [
    {
     "name": "stdout",
     "output_type": "stream",
     "text": [
      "1999\n",
      "0\n"
     ]
    }
   ],
   "source": [
    "yr = int(input())\n",
    "if (yr%4 == 0 and yr%100 != 0) or (yr%400 == 0):\n",
    "    print(\"1\")\n",
    "else:\n",
    "    print(\"0\")"
   ]
  },
  {
   "cell_type": "markdown",
   "metadata": {},
   "source": [
    "##14681번"
   ]
  },
  {
   "cell_type": "code",
   "execution_count": 23,
   "metadata": {},
   "outputs": [
    {
     "name": "stdout",
     "output_type": "stream",
     "text": [
      "12\n",
      "-5\n",
      "4\n"
     ]
    }
   ],
   "source": [
    "x = int(input())\n",
    "y = int(input())\n",
    "\n",
    "if x>0 :\n",
    "    if y>0:\n",
    "        print(\"1\")\n",
    "    else:\n",
    "        print(\"4\")\n",
    "else:\n",
    "    if y<0:\n",
    "        print(\"3\")\n",
    "    else :\n",
    "        print(\"2\")"
   ]
  },
  {
   "cell_type": "markdown",
   "metadata": {},
   "source": [
    "##2739"
   ]
  },
  {
   "cell_type": "code",
   "execution_count": 25,
   "metadata": {},
   "outputs": [
    {
     "name": "stdout",
     "output_type": "stream",
     "text": [
      "2\n",
      "2*1 = 2\n",
      "2*2 = 4\n",
      "2*3 = 6\n",
      "2*4 = 8\n",
      "2*5 = 10\n",
      "2*6 = 12\n",
      "2*7 = 14\n",
      "2*8 = 16\n",
      "2*9 = 18\n"
     ]
    }
   ],
   "source": [
    "n = int(input())\n",
    "for i in range(1,10):\n",
    "    print(\"{} * {} = {}\".format(n,i,n*i))"
   ]
  },
  {
   "cell_type": "markdown",
   "metadata": {},
   "source": [
    "##10950번"
   ]
  },
  {
   "cell_type": "code",
   "execution_count": null,
   "metadata": {},
   "outputs": [],
   "source": [
    "T = int(input())\n",
    "\n",
    "for i in range(T):\n",
    "    A,B = map(int,input().split())\n",
    "    print(A+B)"
   ]
  },
  {
   "cell_type": "markdown",
   "metadata": {},
   "source": [
    "##8393번"
   ]
  },
  {
   "cell_type": "code",
   "execution_count": 5,
   "metadata": {},
   "outputs": [
    {
     "name": "stdout",
     "output_type": "stream",
     "text": [
      "4\n",
      "10\n"
     ]
    }
   ],
   "source": [
    "n = int(input())\n",
    "k=0\n",
    "for i in range(1,n+1):\n",
    "    k = k+ i\n",
    "print(k)\n",
    "    \n",
    "    "
   ]
  },
  {
   "cell_type": "markdown",
   "metadata": {},
   "source": [
    "##2741번"
   ]
  },
  {
   "cell_type": "code",
   "execution_count": 6,
   "metadata": {},
   "outputs": [
    {
     "name": "stdout",
     "output_type": "stream",
     "text": [
      "5\n",
      "1\n",
      "2\n",
      "3\n",
      "4\n",
      "5\n"
     ]
    }
   ],
   "source": [
    "n = int(input())\n",
    "for i in range(1,n+1):\n",
    "    print(i)"
   ]
  },
  {
   "cell_type": "markdown",
   "metadata": {},
   "source": [
    "##2742번\n",
    "range()함수 이용해 역순으로 출력 \n",
    "range(n,0,-1) step 값을 음수로"
   ]
  },
  {
   "cell_type": "code",
   "execution_count": 11,
   "metadata": {},
   "outputs": [
    {
     "name": "stdout",
     "output_type": "stream",
     "text": [
      "7\n",
      "7\n",
      "6\n",
      "5\n",
      "4\n",
      "3\n",
      "2\n",
      "1\n"
     ]
    }
   ],
   "source": [
    "n = int(input())\n",
    "for i in range(n,0,-1):\n",
    "    print(i)"
   ]
  },
  {
   "cell_type": "markdown",
   "metadata": {},
   "source": [
    "##11021번"
   ]
  },
  {
   "cell_type": "code",
   "execution_count": 15,
   "metadata": {},
   "outputs": [
    {
     "name": "stdout",
     "output_type": "stream",
     "text": [
      "3\n",
      "1 2\n",
      "Case #1: 3\n",
      "2 3\n",
      "Case #2: 5\n",
      "3 4\n",
      "Case #3: 7\n"
     ]
    }
   ],
   "source": [
    "T = int(input())   # 테스트 케이스 개수\n",
    "k = 0\n",
    "for i in range(T):\n",
    "    A,B = map(int, input().split())\n",
    "    k = k +1\n",
    "    print(\"Case #{}: {}\".format(k,A+B))"
   ]
  },
  {
   "cell_type": "markdown",
   "metadata": {},
   "source": [
    "##11022번"
   ]
  },
  {
   "cell_type": "code",
   "execution_count": 16,
   "metadata": {},
   "outputs": [
    {
     "name": "stdout",
     "output_type": "stream",
     "text": [
      "3\n",
      "1 2\n",
      "Case #1: 1 + 2 = 3\n",
      "2 3\n",
      "Case #2: 2 + 3 = 5\n",
      "3 4\n",
      "Case #3: 3 + 4 = 7\n"
     ]
    }
   ],
   "source": [
    "T = int(input())\n",
    "k = 0\n",
    "for i in range(T):\n",
    "    A,B = map(int, input().split())\n",
    "    k = k + 1\n",
    "    print(\"Case #{}: {} + {} = {}\".format(k,A,B,A+B))"
   ]
  },
  {
   "cell_type": "markdown",
   "metadata": {},
   "source": [
    "##2438번"
   ]
  },
  {
   "cell_type": "code",
   "execution_count": 17,
   "metadata": {},
   "outputs": [
    {
     "name": "stdout",
     "output_type": "stream",
     "text": [
      "5\n",
      "*\n",
      "**\n",
      "***\n",
      "****\n",
      "*****\n"
     ]
    }
   ],
   "source": [
    "n = int(input())\n",
    "for i in range(1,n+1):\n",
    "    print(\"*\"*i)"
   ]
  },
  {
   "cell_type": "markdown",
   "metadata": {},
   "source": [
    "##2439번\n",
    "기존 print문으로 출력을 하면 왼쪽정렬이 되어서 나옴 \n",
    "오른쪽 정렬을 하기 위해서는 rjust()를 사용해야 함\n",
    "ljust(전체자리수) : 왼쪽 정렬\n",
    "rjust(전체자리수) : 오른쪽 정렬"
   ]
  },
  {
   "cell_type": "code",
   "execution_count": 19,
   "metadata": {},
   "outputs": [
    {
     "name": "stdout",
     "output_type": "stream",
     "text": [
      "5\n",
      "    *\n",
      "   **\n",
      "  ***\n",
      " ****\n",
      "*****\n"
     ]
    }
   ],
   "source": [
    "n = int(input())\n",
    "for i in range(1,n+1):\n",
    "    print(str(\"*\"*i).rjust(n))"
   ]
  },
  {
   "cell_type": "markdown",
   "metadata": {},
   "source": [
    "##10952번"
   ]
  },
  {
   "cell_type": "code",
   "execution_count": 1,
   "metadata": {},
   "outputs": [
    {
     "name": "stdout",
     "output_type": "stream",
     "text": [
      "1 2\n",
      "3\n",
      "0 0\n"
     ]
    }
   ],
   "source": [
    "while True:\n",
    "    a, b = map(int,input().split())\n",
    "    if a == 0 and b == 0:\n",
    "        break\n",
    "    print(a + b)\n",
    "    "
   ]
  },
  {
   "cell_type": "markdown",
   "metadata": {},
   "source": [
    "##1110번"
   ]
  },
  {
   "cell_type": "code",
   "execution_count": null,
   "metadata": {},
   "outputs": [
    {
     "name": "stdout",
     "output_type": "stream",
     "text": [
      "26\n"
     ]
    }
   ],
   "source": []
  },
  {
   "cell_type": "code",
   "execution_count": null,
   "metadata": {},
   "outputs": [],
   "source": [
    "input_num = int(input())\n",
    "\n",
    "num = input_num  # num 변수에 input_num을 지정\n",
    "cnt = 0\n",
    "while True:\n",
    "    sum_num = (num // 10) + (num % 10)  # 각 자릿수를 더한수\n",
    "    new_num = ((num % 10) * 10) + (sum_num % 10)  # 새로 만들어지는 수\n",
    "    cnt += 1  # 사이클 카운트\n",
    "    if new_num == input_num :\n",
    "        break\n",
    "    num = new_num  # num 변수에 last_num을 지정 \n",
    "print(cnt)"
   ]
  }
 ],
 "metadata": {
  "kernelspec": {
   "display_name": "Python 3",
   "language": "python",
   "name": "python3"
  },
  "language_info": {
   "codemirror_mode": {
    "name": "ipython",
    "version": 3
   },
   "file_extension": ".py",
   "mimetype": "text/x-python",
   "name": "python",
   "nbconvert_exporter": "python",
   "pygments_lexer": "ipython3",
   "version": "3.8.5"
  }
 },
 "nbformat": 4,
 "nbformat_minor": 4
}

{
  "nbformat": 4,
  "nbformat_minor": 0,
  "metadata": {
    "kernelspec": {
      "display_name": "Python 3",
      "language": "python",
      "name": "python3"
    },
    "language_info": {
      "codemirror_mode": {
        "name": "ipython",
        "version": 3
      },
      "file_extension": ".py",
      "mimetype": "text/x-python",
      "name": "python",
      "nbconvert_exporter": "python",
      "pygments_lexer": "ipython3",
      "version": "3.8.5"
    },
    "colab": {
      "name": "1차 미니프로젝트_신선민.ipynb",
      "provenance": []
    }
  },
  "cells": [
    {
      "cell_type": "code",
      "metadata": {
        "colab": {
          "base_uri": "https://localhost:8080/"
        },
        "id": "E7OONqzwT-Om",
        "outputId": "b13722a5-b547-42e7-817c-378e1896d6fb"
      },
      "source": [
        "!sudo apt-get install -y fonts-nanum\n",
        "!sudo fc-cache -fv\n",
        "!rm ~/.cache/matplotlib -rf"
      ],
      "execution_count": 81,
      "outputs": [
        {
          "output_type": "stream",
          "name": "stdout",
          "text": [
            "Reading package lists... Done\n",
            "Building dependency tree       \n",
            "Reading state information... Done\n",
            "fonts-nanum is already the newest version (20170925-1).\n",
            "0 upgraded, 0 newly installed, 0 to remove and 37 not upgraded.\n",
            "/usr/share/fonts: caching, new cache contents: 0 fonts, 1 dirs\n",
            "/usr/share/fonts/truetype: caching, new cache contents: 0 fonts, 3 dirs\n",
            "/usr/share/fonts/truetype/humor-sans: caching, new cache contents: 1 fonts, 0 dirs\n",
            "/usr/share/fonts/truetype/liberation: caching, new cache contents: 16 fonts, 0 dirs\n",
            "/usr/share/fonts/truetype/nanum: caching, new cache contents: 10 fonts, 0 dirs\n",
            "/usr/local/share/fonts: caching, new cache contents: 0 fonts, 0 dirs\n",
            "/root/.local/share/fonts: skipping, no such directory\n",
            "/root/.fonts: skipping, no such directory\n",
            "/var/cache/fontconfig: cleaning cache directory\n",
            "/root/.cache/fontconfig: not cleaning non-existent cache directory\n",
            "/root/.fontconfig: not cleaning non-existent cache directory\n",
            "fc-cache: succeeded\n"
          ]
        }
      ]
    },
    {
      "cell_type": "code",
      "metadata": {
        "id": "trS8SPazT-Oq"
      },
      "source": [
        "import pandas as pd \n",
        "import numpy as np\n",
        "import seaborn as sns\n",
        "import matplotlib.pyplot as plt\n",
        "plt.rc('font', family='NanumBarunGothic') #matplotlib 한글 깨짐 방지\n",
        "\n",
        "import warnings\n",
        "warnings.filterwarnings(action='ignore')"
      ],
      "execution_count": 82,
      "outputs": []
    },
    {
      "cell_type": "code",
      "metadata": {
        "colab": {
          "resources": {
            "http://localhost:8080/nbextensions/google.colab/files.js": {
              "data": "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",
              "ok": true,
              "headers": [
                [
                  "content-type",
                  "application/javascript"
                ]
              ],
              "status": 200,
              "status_text": ""
            }
          },
          "base_uri": "https://localhost:8080/",
          "height": 77
        },
        "id": "4RK3vFIOT-Or",
        "outputId": "6200cd28-a179-43e8-b666-e457d4bd96ea"
      },
      "source": [
        "#데이터 불러오기\n",
        "from google.colab import files\n",
        "uploaded = files.upload()\n",
        "import io \n",
        "train = pd.read_csv(io.BytesIO(uploaded['movies_train.csv']))"
      ],
      "execution_count": 83,
      "outputs": [
        {
          "output_type": "display_data",
          "data": {
            "text/html": [
              "\n",
              "     <input type=\"file\" id=\"files-299f0bb5-bd35-44c1-b04e-bfa32826c67c\" name=\"files[]\" multiple disabled\n",
              "        style=\"border:none\" />\n",
              "     <output id=\"result-299f0bb5-bd35-44c1-b04e-bfa32826c67c\">\n",
              "      Upload widget is only available when the cell has been executed in the\n",
              "      current browser session. Please rerun this cell to enable.\n",
              "      </output>\n",
              "      <script src=\"/nbextensions/google.colab/files.js\"></script> "
            ],
            "text/plain": [
              "<IPython.core.display.HTML object>"
            ]
          },
          "metadata": {}
        },
        {
          "output_type": "stream",
          "name": "stdout",
          "text": [
            "Saving movies_train.csv to movies_train (4).csv\n"
          ]
        }
      ]
    },
    {
      "cell_type": "markdown",
      "metadata": {
        "id": "MB7FY6bBT-Os"
      },
      "source": [
        "##데이터 설명\n",
        "+ title : 영화의 제목\n",
        "+ distributor : 배급사\n",
        "+ genre : 장르\n",
        "+ release_time : 개봉일\n",
        "+ time : 상영시간(분)\n",
        "+ screening_rat : 상영등급\n",
        "+ director : 감독이름\n",
        "+ dir_prev_bfnum : 해당 감독이 이 영화를 만들기 전 제작에 참여한 영화에서의 평균 관객수(단 관객수가 알려지지 않은 영화 제외)\n",
        "+ dir_prev_num : 해당 감독이 이 영화를 만들기 전 제작에 참여한 영화의 개수(단 관객수가 알려지지 않은 영화 제외)\n",
        "+ num_staff : 스텝수\n",
        "+ num_actor : 주연배우수\n",
        "+ box_off_num : 관객수"
      ]
    },
    {
      "cell_type": "markdown",
      "metadata": {
        "id": "Ewjh2sizT-Ot"
      },
      "source": [
        "##1)일부 데이터 미리보기"
      ]
    },
    {
      "cell_type": "code",
      "metadata": {
        "colab": {
          "base_uri": "https://localhost:8080/",
          "height": 206
        },
        "id": "O6Z27w9PT-Ou",
        "outputId": "0ecef7ab-91d8-4d6d-8bc2-6f5b25dc3d6d"
      },
      "source": [
        "#train 데이터 확인 \n",
        "train.head()"
      ],
      "execution_count": 84,
      "outputs": [
        {
          "output_type": "execute_result",
          "data": {
            "text/html": [
              "<div>\n",
              "<style scoped>\n",
              "    .dataframe tbody tr th:only-of-type {\n",
              "        vertical-align: middle;\n",
              "    }\n",
              "\n",
              "    .dataframe tbody tr th {\n",
              "        vertical-align: top;\n",
              "    }\n",
              "\n",
              "    .dataframe thead th {\n",
              "        text-align: right;\n",
              "    }\n",
              "</style>\n",
              "<table border=\"1\" class=\"dataframe\">\n",
              "  <thead>\n",
              "    <tr style=\"text-align: right;\">\n",
              "      <th></th>\n",
              "      <th>title</th>\n",
              "      <th>distributor</th>\n",
              "      <th>genre</th>\n",
              "      <th>release_time</th>\n",
              "      <th>time</th>\n",
              "      <th>screening_rat</th>\n",
              "      <th>director</th>\n",
              "      <th>dir_prev_bfnum</th>\n",
              "      <th>dir_prev_num</th>\n",
              "      <th>num_staff</th>\n",
              "      <th>num_actor</th>\n",
              "      <th>box_off_num</th>\n",
              "    </tr>\n",
              "  </thead>\n",
              "  <tbody>\n",
              "    <tr>\n",
              "      <th>0</th>\n",
              "      <td>개들의 전쟁</td>\n",
              "      <td>롯데엔터테인먼트</td>\n",
              "      <td>액션</td>\n",
              "      <td>2012-11-22</td>\n",
              "      <td>96</td>\n",
              "      <td>청소년 관람불가</td>\n",
              "      <td>조병옥</td>\n",
              "      <td>nan</td>\n",
              "      <td>0</td>\n",
              "      <td>91</td>\n",
              "      <td>2</td>\n",
              "      <td>23398</td>\n",
              "    </tr>\n",
              "    <tr>\n",
              "      <th>1</th>\n",
              "      <td>내부자들</td>\n",
              "      <td>(주)쇼박스</td>\n",
              "      <td>느와르</td>\n",
              "      <td>2015-11-19</td>\n",
              "      <td>130</td>\n",
              "      <td>청소년 관람불가</td>\n",
              "      <td>우민호</td>\n",
              "      <td>1161602.5</td>\n",
              "      <td>2</td>\n",
              "      <td>387</td>\n",
              "      <td>3</td>\n",
              "      <td>7072501</td>\n",
              "    </tr>\n",
              "    <tr>\n",
              "      <th>2</th>\n",
              "      <td>은밀하게 위대하게</td>\n",
              "      <td>(주)쇼박스</td>\n",
              "      <td>액션</td>\n",
              "      <td>2013-06-05</td>\n",
              "      <td>123</td>\n",
              "      <td>15세 관람가</td>\n",
              "      <td>장철수</td>\n",
              "      <td>220775.2</td>\n",
              "      <td>4</td>\n",
              "      <td>343</td>\n",
              "      <td>4</td>\n",
              "      <td>6959083</td>\n",
              "    </tr>\n",
              "    <tr>\n",
              "      <th>3</th>\n",
              "      <td>나는 공무원이다</td>\n",
              "      <td>(주)NEW</td>\n",
              "      <td>코미디</td>\n",
              "      <td>2012-07-12</td>\n",
              "      <td>101</td>\n",
              "      <td>전체 관람가</td>\n",
              "      <td>구자홍</td>\n",
              "      <td>23894.0</td>\n",
              "      <td>2</td>\n",
              "      <td>20</td>\n",
              "      <td>6</td>\n",
              "      <td>217866</td>\n",
              "    </tr>\n",
              "    <tr>\n",
              "      <th>4</th>\n",
              "      <td>불량남녀</td>\n",
              "      <td>쇼박스(주)미디어플렉스</td>\n",
              "      <td>코미디</td>\n",
              "      <td>2010-11-04</td>\n",
              "      <td>108</td>\n",
              "      <td>15세 관람가</td>\n",
              "      <td>신근호</td>\n",
              "      <td>1.0</td>\n",
              "      <td>1</td>\n",
              "      <td>251</td>\n",
              "      <td>2</td>\n",
              "      <td>483387</td>\n",
              "    </tr>\n",
              "  </tbody>\n",
              "</table>\n",
              "</div>"
            ],
            "text/plain": [
              "       title   distributor genre  ... num_staff  num_actor box_off_num\n",
              "0     개들의 전쟁      롯데엔터테인먼트    액션  ...        91          2       23398\n",
              "1       내부자들        (주)쇼박스   느와르  ...       387          3     7072501\n",
              "2  은밀하게 위대하게        (주)쇼박스    액션  ...       343          4     6959083\n",
              "3   나는 공무원이다        (주)NEW   코미디  ...        20          6      217866\n",
              "4       불량남녀  쇼박스(주)미디어플렉스   코미디  ...       251          2      483387\n",
              "\n",
              "[5 rows x 12 columns]"
            ]
          },
          "metadata": {},
          "execution_count": 84
        }
      ]
    },
    {
      "cell_type": "code",
      "metadata": {
        "colab": {
          "base_uri": "https://localhost:8080/",
          "height": 206
        },
        "id": "52lFxAu3T-Ov",
        "outputId": "3000ae69-3869-48d7-fbb5-3d8e19a7a542"
      },
      "source": [
        "train.tail()"
      ],
      "execution_count": 85,
      "outputs": [
        {
          "output_type": "execute_result",
          "data": {
            "text/html": [
              "<div>\n",
              "<style scoped>\n",
              "    .dataframe tbody tr th:only-of-type {\n",
              "        vertical-align: middle;\n",
              "    }\n",
              "\n",
              "    .dataframe tbody tr th {\n",
              "        vertical-align: top;\n",
              "    }\n",
              "\n",
              "    .dataframe thead th {\n",
              "        text-align: right;\n",
              "    }\n",
              "</style>\n",
              "<table border=\"1\" class=\"dataframe\">\n",
              "  <thead>\n",
              "    <tr style=\"text-align: right;\">\n",
              "      <th></th>\n",
              "      <th>title</th>\n",
              "      <th>distributor</th>\n",
              "      <th>genre</th>\n",
              "      <th>release_time</th>\n",
              "      <th>time</th>\n",
              "      <th>screening_rat</th>\n",
              "      <th>director</th>\n",
              "      <th>dir_prev_bfnum</th>\n",
              "      <th>dir_prev_num</th>\n",
              "      <th>num_staff</th>\n",
              "      <th>num_actor</th>\n",
              "      <th>box_off_num</th>\n",
              "    </tr>\n",
              "  </thead>\n",
              "  <tbody>\n",
              "    <tr>\n",
              "      <th>595</th>\n",
              "      <td>해무</td>\n",
              "      <td>(주)NEW</td>\n",
              "      <td>드라마</td>\n",
              "      <td>2014-08-13</td>\n",
              "      <td>111</td>\n",
              "      <td>청소년 관람불가</td>\n",
              "      <td>심성보</td>\n",
              "      <td>3833.0</td>\n",
              "      <td>1</td>\n",
              "      <td>510</td>\n",
              "      <td>7</td>\n",
              "      <td>1475091</td>\n",
              "    </tr>\n",
              "    <tr>\n",
              "      <th>596</th>\n",
              "      <td>파파로티</td>\n",
              "      <td>(주)쇼박스</td>\n",
              "      <td>드라마</td>\n",
              "      <td>2013-03-14</td>\n",
              "      <td>127</td>\n",
              "      <td>15세 관람가</td>\n",
              "      <td>윤종찬</td>\n",
              "      <td>496061.0</td>\n",
              "      <td>1</td>\n",
              "      <td>286</td>\n",
              "      <td>6</td>\n",
              "      <td>1716438</td>\n",
              "    </tr>\n",
              "    <tr>\n",
              "      <th>597</th>\n",
              "      <td>살인의 강</td>\n",
              "      <td>(주)마운틴픽쳐스</td>\n",
              "      <td>공포</td>\n",
              "      <td>2010-09-30</td>\n",
              "      <td>99</td>\n",
              "      <td>청소년 관람불가</td>\n",
              "      <td>김대현</td>\n",
              "      <td>nan</td>\n",
              "      <td>0</td>\n",
              "      <td>123</td>\n",
              "      <td>4</td>\n",
              "      <td>2475</td>\n",
              "    </tr>\n",
              "    <tr>\n",
              "      <th>598</th>\n",
              "      <td>악의 연대기</td>\n",
              "      <td>CJ 엔터테인먼트</td>\n",
              "      <td>느와르</td>\n",
              "      <td>2015-05-14</td>\n",
              "      <td>102</td>\n",
              "      <td>15세 관람가</td>\n",
              "      <td>백운학</td>\n",
              "      <td>nan</td>\n",
              "      <td>0</td>\n",
              "      <td>431</td>\n",
              "      <td>4</td>\n",
              "      <td>2192525</td>\n",
              "    </tr>\n",
              "    <tr>\n",
              "      <th>599</th>\n",
              "      <td>베를린</td>\n",
              "      <td>CJ 엔터테인먼트</td>\n",
              "      <td>액션</td>\n",
              "      <td>2013-01-30</td>\n",
              "      <td>120</td>\n",
              "      <td>15세 관람가</td>\n",
              "      <td>류승완</td>\n",
              "      <td>nan</td>\n",
              "      <td>0</td>\n",
              "      <td>363</td>\n",
              "      <td>5</td>\n",
              "      <td>7166532</td>\n",
              "    </tr>\n",
              "  </tbody>\n",
              "</table>\n",
              "</div>"
            ],
            "text/plain": [
              "      title distributor genre  ... num_staff  num_actor box_off_num\n",
              "595      해무      (주)NEW   드라마  ...       510          7     1475091\n",
              "596    파파로티      (주)쇼박스   드라마  ...       286          6     1716438\n",
              "597   살인의 강   (주)마운틴픽쳐스    공포  ...       123          4        2475\n",
              "598  악의 연대기   CJ 엔터테인먼트   느와르  ...       431          4     2192525\n",
              "599     베를린   CJ 엔터테인먼트    액션  ...       363          5     7166532\n",
              "\n",
              "[5 rows x 12 columns]"
            ]
          },
          "metadata": {},
          "execution_count": 85
        }
      ]
    },
    {
      "cell_type": "markdown",
      "metadata": {
        "id": "OO_CMx8eT-Ow"
      },
      "source": [
        "##2)데이터 요약"
      ]
    },
    {
      "cell_type": "code",
      "metadata": {
        "colab": {
          "base_uri": "https://localhost:8080/"
        },
        "id": "aVa7cMykT-Ox",
        "outputId": "1394ee1b-820b-4767-d02c-8e2a0ae626bf"
      },
      "source": [
        "train.shape"
      ],
      "execution_count": 86,
      "outputs": [
        {
          "output_type": "execute_result",
          "data": {
            "text/plain": [
              "(600, 12)"
            ]
          },
          "metadata": {},
          "execution_count": 86
        }
      ]
    },
    {
      "cell_type": "code",
      "metadata": {
        "colab": {
          "base_uri": "https://localhost:8080/"
        },
        "id": "eU5KHs-ST-Ox",
        "outputId": "11874420-800a-4fe7-859c-791b8093aaa0"
      },
      "source": [
        "train.info()"
      ],
      "execution_count": 87,
      "outputs": [
        {
          "output_type": "stream",
          "name": "stdout",
          "text": [
            "<class 'pandas.core.frame.DataFrame'>\n",
            "RangeIndex: 600 entries, 0 to 599\n",
            "Data columns (total 12 columns):\n",
            " #   Column          Non-Null Count  Dtype  \n",
            "---  ------          --------------  -----  \n",
            " 0   title           600 non-null    object \n",
            " 1   distributor     600 non-null    object \n",
            " 2   genre           600 non-null    object \n",
            " 3   release_time    600 non-null    object \n",
            " 4   time            600 non-null    int64  \n",
            " 5   screening_rat   600 non-null    object \n",
            " 6   director        600 non-null    object \n",
            " 7   dir_prev_bfnum  270 non-null    float64\n",
            " 8   dir_prev_num    600 non-null    int64  \n",
            " 9   num_staff       600 non-null    int64  \n",
            " 10  num_actor       600 non-null    int64  \n",
            " 11  box_off_num     600 non-null    int64  \n",
            "dtypes: float64(1), int64(5), object(6)\n",
            "memory usage: 56.4+ KB\n"
          ]
        }
      ]
    },
    {
      "cell_type": "markdown",
      "metadata": {
        "id": "i9Ho7Ds2T-Oy"
      },
      "source": [
        "##3) 데이터의 요약통계량 확인"
      ]
    },
    {
      "cell_type": "code",
      "metadata": {
        "id": "dpqeezCMT-Oy"
      },
      "source": [
        "#float_format에서는 실수를 출력하는 함수를 설정할 수 있습니다. \n",
        "#아래 람다 함수 lambda x: f'{x:.2f}'는 실수 x를 받아 소수점 둘째자리까지만 표현합니다.\n",
        "#설정을 취소할 때는 아래와 같이 합니다.\n",
        "#pd.reset_option('display.float_format')\n",
        "pd.options.display.float_format = '{:.1f}'.format"
      ],
      "execution_count": 88,
      "outputs": []
    },
    {
      "cell_type": "code",
      "metadata": {
        "colab": {
          "base_uri": "https://localhost:8080/",
          "height": 300
        },
        "id": "Ub7GzpL8T-Oz",
        "outputId": "7d340c3b-5642-4d8f-a0f4-3cb27d7f0c1d"
      },
      "source": [
        "train.describe()"
      ],
      "execution_count": 89,
      "outputs": [
        {
          "output_type": "execute_result",
          "data": {
            "text/html": [
              "<div>\n",
              "<style scoped>\n",
              "    .dataframe tbody tr th:only-of-type {\n",
              "        vertical-align: middle;\n",
              "    }\n",
              "\n",
              "    .dataframe tbody tr th {\n",
              "        vertical-align: top;\n",
              "    }\n",
              "\n",
              "    .dataframe thead th {\n",
              "        text-align: right;\n",
              "    }\n",
              "</style>\n",
              "<table border=\"1\" class=\"dataframe\">\n",
              "  <thead>\n",
              "    <tr style=\"text-align: right;\">\n",
              "      <th></th>\n",
              "      <th>time</th>\n",
              "      <th>dir_prev_bfnum</th>\n",
              "      <th>dir_prev_num</th>\n",
              "      <th>num_staff</th>\n",
              "      <th>num_actor</th>\n",
              "      <th>box_off_num</th>\n",
              "    </tr>\n",
              "  </thead>\n",
              "  <tbody>\n",
              "    <tr>\n",
              "      <th>count</th>\n",
              "      <td>600.0</td>\n",
              "      <td>270.0</td>\n",
              "      <td>600.0</td>\n",
              "      <td>600.0</td>\n",
              "      <td>600.0</td>\n",
              "      <td>600.0</td>\n",
              "    </tr>\n",
              "    <tr>\n",
              "      <th>mean</th>\n",
              "      <td>100.9</td>\n",
              "      <td>1050442.9</td>\n",
              "      <td>0.9</td>\n",
              "      <td>151.1</td>\n",
              "      <td>3.7</td>\n",
              "      <td>708181.8</td>\n",
              "    </tr>\n",
              "    <tr>\n",
              "      <th>std</th>\n",
              "      <td>18.1</td>\n",
              "      <td>1791408.3</td>\n",
              "      <td>1.2</td>\n",
              "      <td>165.7</td>\n",
              "      <td>2.4</td>\n",
              "      <td>1828005.9</td>\n",
              "    </tr>\n",
              "    <tr>\n",
              "      <th>min</th>\n",
              "      <td>45.0</td>\n",
              "      <td>1.0</td>\n",
              "      <td>0.0</td>\n",
              "      <td>0.0</td>\n",
              "      <td>0.0</td>\n",
              "      <td>1.0</td>\n",
              "    </tr>\n",
              "    <tr>\n",
              "      <th>25%</th>\n",
              "      <td>89.0</td>\n",
              "      <td>20380.0</td>\n",
              "      <td>0.0</td>\n",
              "      <td>17.0</td>\n",
              "      <td>2.0</td>\n",
              "      <td>1297.2</td>\n",
              "    </tr>\n",
              "    <tr>\n",
              "      <th>50%</th>\n",
              "      <td>100.0</td>\n",
              "      <td>478423.6</td>\n",
              "      <td>0.0</td>\n",
              "      <td>82.5</td>\n",
              "      <td>3.0</td>\n",
              "      <td>12591.0</td>\n",
              "    </tr>\n",
              "    <tr>\n",
              "      <th>75%</th>\n",
              "      <td>114.0</td>\n",
              "      <td>1286568.6</td>\n",
              "      <td>2.0</td>\n",
              "      <td>264.0</td>\n",
              "      <td>4.0</td>\n",
              "      <td>479886.8</td>\n",
              "    </tr>\n",
              "    <tr>\n",
              "      <th>max</th>\n",
              "      <td>180.0</td>\n",
              "      <td>17615314.0</td>\n",
              "      <td>5.0</td>\n",
              "      <td>869.0</td>\n",
              "      <td>25.0</td>\n",
              "      <td>14262766.0</td>\n",
              "    </tr>\n",
              "  </tbody>\n",
              "</table>\n",
              "</div>"
            ],
            "text/plain": [
              "       time  dir_prev_bfnum  dir_prev_num  num_staff  num_actor  box_off_num\n",
              "count 600.0           270.0         600.0      600.0      600.0        600.0\n",
              "mean  100.9       1050442.9           0.9      151.1        3.7     708181.8\n",
              "std    18.1       1791408.3           1.2      165.7        2.4    1828005.9\n",
              "min    45.0             1.0           0.0        0.0        0.0          1.0\n",
              "25%    89.0         20380.0           0.0       17.0        2.0       1297.2\n",
              "50%   100.0        478423.6           0.0       82.5        3.0      12591.0\n",
              "75%   114.0       1286568.6           2.0      264.0        4.0     479886.8\n",
              "max   180.0      17615314.0           5.0      869.0       25.0   14262766.0"
            ]
          },
          "metadata": {},
          "execution_count": 89
        }
      ]
    },
    {
      "cell_type": "markdown",
      "metadata": {
        "id": "RnRAOnJ-T-Oz"
      },
      "source": [
        "##4)결측치 확인 및 데이터 전처리"
      ]
    },
    {
      "cell_type": "code",
      "metadata": {
        "colab": {
          "base_uri": "https://localhost:8080/"
        },
        "id": "7bSyISbtT-Oz",
        "outputId": "92c2145d-b9b1-4c0c-a1a4-2885280bb20e"
      },
      "source": [
        "train.isna().sum()"
      ],
      "execution_count": 90,
      "outputs": [
        {
          "output_type": "execute_result",
          "data": {
            "text/plain": [
              "title               0\n",
              "distributor         0\n",
              "genre               0\n",
              "release_time        0\n",
              "time                0\n",
              "screening_rat       0\n",
              "director            0\n",
              "dir_prev_bfnum    330\n",
              "dir_prev_num        0\n",
              "num_staff           0\n",
              "num_actor           0\n",
              "box_off_num         0\n",
              "dtype: int64"
            ]
          },
          "metadata": {},
          "execution_count": 90
        }
      ]
    },
    {
      "cell_type": "markdown",
      "metadata": {
        "id": "YN_MpvbvT-Oz"
      },
      "source": [
        "train데이터 내에 dir_prev_bfum 열에 결측치가 330개 존재한다."
      ]
    },
    {
      "cell_type": "code",
      "metadata": {
        "colab": {
          "base_uri": "https://localhost:8080/",
          "height": 206
        },
        "id": "cmgMyK73T-O0",
        "outputId": "d829760b-99ad-4896-9ed5-1630c9ce773c"
      },
      "source": [
        "#결측값들의 특성 확인\n",
        "train[train['dir_prev_bfnum'].isna()].head()"
      ],
      "execution_count": 91,
      "outputs": [
        {
          "output_type": "execute_result",
          "data": {
            "text/html": [
              "<div>\n",
              "<style scoped>\n",
              "    .dataframe tbody tr th:only-of-type {\n",
              "        vertical-align: middle;\n",
              "    }\n",
              "\n",
              "    .dataframe tbody tr th {\n",
              "        vertical-align: top;\n",
              "    }\n",
              "\n",
              "    .dataframe thead th {\n",
              "        text-align: right;\n",
              "    }\n",
              "</style>\n",
              "<table border=\"1\" class=\"dataframe\">\n",
              "  <thead>\n",
              "    <tr style=\"text-align: right;\">\n",
              "      <th></th>\n",
              "      <th>title</th>\n",
              "      <th>distributor</th>\n",
              "      <th>genre</th>\n",
              "      <th>release_time</th>\n",
              "      <th>time</th>\n",
              "      <th>screening_rat</th>\n",
              "      <th>director</th>\n",
              "      <th>dir_prev_bfnum</th>\n",
              "      <th>dir_prev_num</th>\n",
              "      <th>num_staff</th>\n",
              "      <th>num_actor</th>\n",
              "      <th>box_off_num</th>\n",
              "    </tr>\n",
              "  </thead>\n",
              "  <tbody>\n",
              "    <tr>\n",
              "      <th>0</th>\n",
              "      <td>개들의 전쟁</td>\n",
              "      <td>롯데엔터테인먼트</td>\n",
              "      <td>액션</td>\n",
              "      <td>2012-11-22</td>\n",
              "      <td>96</td>\n",
              "      <td>청소년 관람불가</td>\n",
              "      <td>조병옥</td>\n",
              "      <td>nan</td>\n",
              "      <td>0</td>\n",
              "      <td>91</td>\n",
              "      <td>2</td>\n",
              "      <td>23398</td>\n",
              "    </tr>\n",
              "    <tr>\n",
              "      <th>6</th>\n",
              "      <td>길위에서</td>\n",
              "      <td>백두대간</td>\n",
              "      <td>다큐멘터리</td>\n",
              "      <td>2013-05-23</td>\n",
              "      <td>104</td>\n",
              "      <td>전체 관람가</td>\n",
              "      <td>이창재</td>\n",
              "      <td>nan</td>\n",
              "      <td>0</td>\n",
              "      <td>32</td>\n",
              "      <td>5</td>\n",
              "      <td>53526</td>\n",
              "    </tr>\n",
              "    <tr>\n",
              "      <th>8</th>\n",
              "      <td>1789, 바스티유의 연인들</td>\n",
              "      <td>유니버설픽쳐스인터내셔널코리아</td>\n",
              "      <td>뮤지컬</td>\n",
              "      <td>2014-09-18</td>\n",
              "      <td>129</td>\n",
              "      <td>전체 관람가</td>\n",
              "      <td>정성복</td>\n",
              "      <td>nan</td>\n",
              "      <td>0</td>\n",
              "      <td>3</td>\n",
              "      <td>5</td>\n",
              "      <td>4778</td>\n",
              "    </tr>\n",
              "    <tr>\n",
              "      <th>9</th>\n",
              "      <td>청춘그루브</td>\n",
              "      <td>(주)두타연</td>\n",
              "      <td>드라마</td>\n",
              "      <td>2012-03-15</td>\n",
              "      <td>94</td>\n",
              "      <td>15세 관람가</td>\n",
              "      <td>변성현</td>\n",
              "      <td>nan</td>\n",
              "      <td>0</td>\n",
              "      <td>138</td>\n",
              "      <td>3</td>\n",
              "      <td>868</td>\n",
              "    </tr>\n",
              "    <tr>\n",
              "      <th>10</th>\n",
              "      <td>AV 아이돌</td>\n",
              "      <td>(주) 케이알씨지</td>\n",
              "      <td>멜로/로맨스</td>\n",
              "      <td>2015-07-27</td>\n",
              "      <td>89</td>\n",
              "      <td>청소년 관람불가</td>\n",
              "      <td>조조 히데오</td>\n",
              "      <td>nan</td>\n",
              "      <td>0</td>\n",
              "      <td>0</td>\n",
              "      <td>4</td>\n",
              "      <td>745</td>\n",
              "    </tr>\n",
              "  </tbody>\n",
              "</table>\n",
              "</div>"
            ],
            "text/plain": [
              "              title      distributor   genre  ... num_staff  num_actor box_off_num\n",
              "0            개들의 전쟁         롯데엔터테인먼트      액션  ...        91          2       23398\n",
              "6              길위에서             백두대간   다큐멘터리  ...        32          5       53526\n",
              "8   1789, 바스티유의 연인들  유니버설픽쳐스인터내셔널코리아     뮤지컬  ...         3          5        4778\n",
              "9             청춘그루브           (주)두타연     드라마  ...       138          3         868\n",
              "10           AV 아이돌        (주) 케이알씨지  멜로/로맨스  ...         0          4         745\n",
              "\n",
              "[5 rows x 12 columns]"
            ]
          },
          "metadata": {},
          "execution_count": 91
        }
      ]
    },
    {
      "cell_type": "code",
      "metadata": {
        "colab": {
          "base_uri": "https://localhost:8080/"
        },
        "id": "dTIY5WV1T-O0",
        "outputId": "124a0ae1-6efa-472d-8766-be384cf769b8"
      },
      "source": [
        "train[train['dir_prev_bfnum'].isna()]['dir_prev_num'].isna().sum()"
      ],
      "execution_count": 92,
      "outputs": [
        {
          "output_type": "execute_result",
          "data": {
            "text/plain": [
              "0"
            ]
          },
          "metadata": {},
          "execution_count": 92
        }
      ]
    },
    {
      "cell_type": "markdown",
      "metadata": {
        "id": "Nv5s14UwT-O0"
      },
      "source": [
        "train 데이터에서 dir_prev_bfnum 이 결측값으로 존재하는 데이터들은 전부 dir_prev_num 도 0인 영화들이다.<br> \n",
        "즉, 감독의 이전작품이 존재하지 않은 경우이다.<br>따라서 dir_prev_bfnum에 있는 결측값은 전부 0으로 채운다."
      ]
    },
    {
      "cell_type": "code",
      "metadata": {
        "id": "zJWZeT95T-O0"
      },
      "source": [
        "#dir_prev_bfnum에 있는 결측값은 전부 0으로 채운기\n",
        "train['dir_prev_bfnum'].fillna(0,inplace=True)"
      ],
      "execution_count": 93,
      "outputs": []
    },
    {
      "cell_type": "code",
      "metadata": {
        "colab": {
          "base_uri": "https://localhost:8080/"
        },
        "id": "XOv50GtxT-O1",
        "outputId": "1741d37a-3e24-40c2-f986-18e7c2281007"
      },
      "source": [
        "#잘 채워졌는지 확인\n",
        "train['dir_prev_bfnum'].isna().sum()"
      ],
      "execution_count": 94,
      "outputs": [
        {
          "output_type": "execute_result",
          "data": {
            "text/plain": [
              "0"
            ]
          },
          "metadata": {},
          "execution_count": 94
        }
      ]
    },
    {
      "cell_type": "code",
      "metadata": {
        "colab": {
          "base_uri": "https://localhost:8080/"
        },
        "id": "2hrWiK4iT-O1",
        "outputId": "f82ad2da-0247-46ba-e0b5-bf8fb2891f17"
      },
      "source": [
        "train['release_time'].head()"
      ],
      "execution_count": 95,
      "outputs": [
        {
          "output_type": "execute_result",
          "data": {
            "text/plain": [
              "0    2012-11-22\n",
              "1    2015-11-19\n",
              "2    2013-06-05\n",
              "3    2012-07-12\n",
              "4    2010-11-04\n",
              "Name: release_time, dtype: object"
            ]
          },
          "metadata": {},
          "execution_count": 95
        }
      ]
    },
    {
      "cell_type": "code",
      "metadata": {
        "id": "Vyfi2UDcT-O1"
      },
      "source": [
        "#release_time 을 datetime object 로 변환\n",
        "train['release_time']=pd.to_datetime(train['release_time'])"
      ],
      "execution_count": 96,
      "outputs": []
    },
    {
      "cell_type": "code",
      "metadata": {
        "colab": {
          "base_uri": "https://localhost:8080/"
        },
        "id": "esQTq7FqT-O1",
        "outputId": "857e2ec8-2ed4-4fdf-ed1f-3a7f5d69e0ba"
      },
      "source": [
        "#잘 변환되었는지 확인\n",
        "train.info()"
      ],
      "execution_count": 97,
      "outputs": [
        {
          "output_type": "stream",
          "name": "stdout",
          "text": [
            "<class 'pandas.core.frame.DataFrame'>\n",
            "RangeIndex: 600 entries, 0 to 599\n",
            "Data columns (total 12 columns):\n",
            " #   Column          Non-Null Count  Dtype         \n",
            "---  ------          --------------  -----         \n",
            " 0   title           600 non-null    object        \n",
            " 1   distributor     600 non-null    object        \n",
            " 2   genre           600 non-null    object        \n",
            " 3   release_time    600 non-null    datetime64[ns]\n",
            " 4   time            600 non-null    int64         \n",
            " 5   screening_rat   600 non-null    object        \n",
            " 6   director        600 non-null    object        \n",
            " 7   dir_prev_bfnum  600 non-null    float64       \n",
            " 8   dir_prev_num    600 non-null    int64         \n",
            " 9   num_staff       600 non-null    int64         \n",
            " 10  num_actor       600 non-null    int64         \n",
            " 11  box_off_num     600 non-null    int64         \n",
            "dtypes: datetime64[ns](1), float64(1), int64(5), object(5)\n",
            "memory usage: 56.4+ KB\n"
          ]
        }
      ]
    },
    {
      "cell_type": "markdown",
      "metadata": {
        "id": "cTAhS1DhT-O2"
      },
      "source": [
        "#데이터 시각화 및 분석"
      ]
    },
    {
      "cell_type": "markdown",
      "metadata": {
        "id": "usBDwp_2T-O2"
      },
      "source": [
        "##1) 장르별 평균관객수"
      ]
    },
    {
      "cell_type": "code",
      "metadata": {
        "colab": {
          "base_uri": "https://localhost:8080/",
          "height": 457
        },
        "id": "AK_XJiahZdTS",
        "outputId": "d6af4dbf-c8f1-4bc0-ce1e-f746ad293bc0"
      },
      "source": [
        "train[['genre','box_off_num']].groupby('genre').mean().sort_values('box_off_num')"
      ],
      "execution_count": 98,
      "outputs": [
        {
          "output_type": "execute_result",
          "data": {
            "text/html": [
              "<div>\n",
              "<style scoped>\n",
              "    .dataframe tbody tr th:only-of-type {\n",
              "        vertical-align: middle;\n",
              "    }\n",
              "\n",
              "    .dataframe tbody tr th {\n",
              "        vertical-align: top;\n",
              "    }\n",
              "\n",
              "    .dataframe thead th {\n",
              "        text-align: right;\n",
              "    }\n",
              "</style>\n",
              "<table border=\"1\" class=\"dataframe\">\n",
              "  <thead>\n",
              "    <tr style=\"text-align: right;\">\n",
              "      <th></th>\n",
              "      <th>box_off_num</th>\n",
              "    </tr>\n",
              "    <tr>\n",
              "      <th>genre</th>\n",
              "      <th></th>\n",
              "    </tr>\n",
              "  </thead>\n",
              "  <tbody>\n",
              "    <tr>\n",
              "      <th>뮤지컬</th>\n",
              "      <td>6627.0</td>\n",
              "    </tr>\n",
              "    <tr>\n",
              "      <th>다큐멘터리</th>\n",
              "      <td>67172.3</td>\n",
              "    </tr>\n",
              "    <tr>\n",
              "      <th>서스펜스</th>\n",
              "      <td>82611.0</td>\n",
              "    </tr>\n",
              "    <tr>\n",
              "      <th>애니메이션</th>\n",
              "      <td>181926.7</td>\n",
              "    </tr>\n",
              "    <tr>\n",
              "      <th>멜로/로맨스</th>\n",
              "      <td>425968.0</td>\n",
              "    </tr>\n",
              "    <tr>\n",
              "      <th>미스터리</th>\n",
              "      <td>527548.2</td>\n",
              "    </tr>\n",
              "    <tr>\n",
              "      <th>공포</th>\n",
              "      <td>590832.5</td>\n",
              "    </tr>\n",
              "    <tr>\n",
              "      <th>드라마</th>\n",
              "      <td>625689.8</td>\n",
              "    </tr>\n",
              "    <tr>\n",
              "      <th>코미디</th>\n",
              "      <td>1193914.0</td>\n",
              "    </tr>\n",
              "    <tr>\n",
              "      <th>SF</th>\n",
              "      <td>1788345.7</td>\n",
              "    </tr>\n",
              "    <tr>\n",
              "      <th>액션</th>\n",
              "      <td>2203974.1</td>\n",
              "    </tr>\n",
              "    <tr>\n",
              "      <th>느와르</th>\n",
              "      <td>2263695.1</td>\n",
              "    </tr>\n",
              "  </tbody>\n",
              "</table>\n",
              "</div>"
            ],
            "text/plain": [
              "        box_off_num\n",
              "genre              \n",
              "뮤지컬          6627.0\n",
              "다큐멘터리       67172.3\n",
              "서스펜스        82611.0\n",
              "애니메이션      181926.7\n",
              "멜로/로맨스     425968.0\n",
              "미스터리       527548.2\n",
              "공포         590832.5\n",
              "드라마        625689.8\n",
              "코미디       1193914.0\n",
              "SF        1788345.7\n",
              "액션        2203974.1\n",
              "느와르       2263695.1"
            ]
          },
          "metadata": {},
          "execution_count": 98
        }
      ]
    },
    {
      "cell_type": "code",
      "metadata": {
        "colab": {
          "base_uri": "https://localhost:8080/",
          "height": 347
        },
        "id": "8iLAPmSCT-O2",
        "outputId": "870d0dde-75ee-47b8-b1eb-1048209c4d49"
      },
      "source": [
        "train[['genre','box_off_num']].groupby('genre').mean().sort_values('box_off_num').plot(kind='bar')\n"
      ],
      "execution_count": 99,
      "outputs": [
        {
          "output_type": "execute_result",
          "data": {
            "text/plain": [
              "<matplotlib.axes._subplots.AxesSubplot at 0x7f0780274910>"
            ]
          },
          "metadata": {},
          "execution_count": 99
        },
        {
          "output_type": "display_data",
          "data": {
            "image/png": "[encoded data removed]",
            "text/plain": [
              "<Figure size 432x288 with 1 Axes>"
            ]
          },
          "metadata": {
            "needs_background": "light"
          }
        }
      ]
    },
    {
      "cell_type": "markdown",
      "metadata": {
        "id": "VdNd42jUa2qG"
      },
      "source": [
        "느와르,액션,SF,코미디 순으로 평균 관객수가 많다. 가장 평균 관객수가 적은 영화는 뮤지컬이다."
      ]
    },
    {
      "cell_type": "markdown",
      "metadata": {
        "id": "LRvitJ4ebVts"
      },
      "source": [
        "##2) 영화 개봉 월에 따른 평균 관객수"
      ]
    },
    {
      "cell_type": "code",
      "metadata": {
        "id": "U_0Bh926bJAZ"
      },
      "source": [
        "#개봉일에서 월만 추출해 release_month 열에 저장\n",
        "train['release_month']= train['release_time'].dt.month"
      ],
      "execution_count": 100,
      "outputs": []
    },
    {
      "cell_type": "code",
      "metadata": {
        "colab": {
          "base_uri": "https://localhost:8080/",
          "height": 423
        },
        "id": "rWASwyzUbm7v",
        "outputId": "73df7766-3620-4bf4-9366-27f809e2b8fc"
      },
      "source": [
        "#잘 되었는지 확인\n",
        "train[['release_time','release_month']]"
      ],
      "execution_count": 101,
      "outputs": [
        {
          "output_type": "execute_result",
          "data": {
            "text/html": [
              "<div>\n",
              "<style scoped>\n",
              "    .dataframe tbody tr th:only-of-type {\n",
              "        vertical-align: middle;\n",
              "    }\n",
              "\n",
              "    .dataframe tbody tr th {\n",
              "        vertical-align: top;\n",
              "    }\n",
              "\n",
              "    .dataframe thead th {\n",
              "        text-align: right;\n",
              "    }\n",
              "</style>\n",
              "<table border=\"1\" class=\"dataframe\">\n",
              "  <thead>\n",
              "    <tr style=\"text-align: right;\">\n",
              "      <th></th>\n",
              "      <th>release_time</th>\n",
              "      <th>release_month</th>\n",
              "    </tr>\n",
              "  </thead>\n",
              "  <tbody>\n",
              "    <tr>\n",
              "      <th>0</th>\n",
              "      <td>2012-11-22</td>\n",
              "      <td>11</td>\n",
              "    </tr>\n",
              "    <tr>\n",
              "      <th>1</th>\n",
              "      <td>2015-11-19</td>\n",
              "      <td>11</td>\n",
              "    </tr>\n",
              "    <tr>\n",
              "      <th>2</th>\n",
              "      <td>2013-06-05</td>\n",
              "      <td>6</td>\n",
              "    </tr>\n",
              "    <tr>\n",
              "      <th>3</th>\n",
              "      <td>2012-07-12</td>\n",
              "      <td>7</td>\n",
              "    </tr>\n",
              "    <tr>\n",
              "      <th>4</th>\n",
              "      <td>2010-11-04</td>\n",
              "      <td>11</td>\n",
              "    </tr>\n",
              "    <tr>\n",
              "      <th>...</th>\n",
              "      <td>...</td>\n",
              "      <td>...</td>\n",
              "    </tr>\n",
              "    <tr>\n",
              "      <th>595</th>\n",
              "      <td>2014-08-13</td>\n",
              "      <td>8</td>\n",
              "    </tr>\n",
              "    <tr>\n",
              "      <th>596</th>\n",
              "      <td>2013-03-14</td>\n",
              "      <td>3</td>\n",
              "    </tr>\n",
              "    <tr>\n",
              "      <th>597</th>\n",
              "      <td>2010-09-30</td>\n",
              "      <td>9</td>\n",
              "    </tr>\n",
              "    <tr>\n",
              "      <th>598</th>\n",
              "      <td>2015-05-14</td>\n",
              "      <td>5</td>\n",
              "    </tr>\n",
              "    <tr>\n",
              "      <th>599</th>\n",
              "      <td>2013-01-30</td>\n",
              "      <td>1</td>\n",
              "    </tr>\n",
              "  </tbody>\n",
              "</table>\n",
              "<p>600 rows × 2 columns</p>\n",
              "</div>"
            ],
            "text/plain": [
              "    release_time  release_month\n",
              "0     2012-11-22             11\n",
              "1     2015-11-19             11\n",
              "2     2013-06-05              6\n",
              "3     2012-07-12              7\n",
              "4     2010-11-04             11\n",
              "..           ...            ...\n",
              "595   2014-08-13              8\n",
              "596   2013-03-14              3\n",
              "597   2010-09-30              9\n",
              "598   2015-05-14              5\n",
              "599   2013-01-30              1\n",
              "\n",
              "[600 rows x 2 columns]"
            ]
          },
          "metadata": {},
          "execution_count": 101
        }
      ]
    },
    {
      "cell_type": "code",
      "metadata": {
        "colab": {
          "base_uri": "https://localhost:8080/",
          "height": 457
        },
        "id": "l1MHa3EjcQ2u",
        "outputId": "b9ba0085-9439-4f8c-97ef-377e38863eac"
      },
      "source": [
        "train[['release_month','box_off_num']].groupby('release_month').mean().sort_values('box_off_num',ascending=False)"
      ],
      "execution_count": 102,
      "outputs": [
        {
          "output_type": "execute_result",
          "data": {
            "text/html": [
              "<div>\n",
              "<style scoped>\n",
              "    .dataframe tbody tr th:only-of-type {\n",
              "        vertical-align: middle;\n",
              "    }\n",
              "\n",
              "    .dataframe tbody tr th {\n",
              "        vertical-align: top;\n",
              "    }\n",
              "\n",
              "    .dataframe thead th {\n",
              "        text-align: right;\n",
              "    }\n",
              "</style>\n",
              "<table border=\"1\" class=\"dataframe\">\n",
              "  <thead>\n",
              "    <tr style=\"text-align: right;\">\n",
              "      <th></th>\n",
              "      <th>box_off_num</th>\n",
              "    </tr>\n",
              "    <tr>\n",
              "      <th>release_month</th>\n",
              "      <th></th>\n",
              "    </tr>\n",
              "  </thead>\n",
              "  <tbody>\n",
              "    <tr>\n",
              "      <th>1</th>\n",
              "      <td>1365930.6</td>\n",
              "    </tr>\n",
              "    <tr>\n",
              "      <th>12</th>\n",
              "      <td>1288247.7</td>\n",
              "    </tr>\n",
              "    <tr>\n",
              "      <th>7</th>\n",
              "      <td>1113807.2</td>\n",
              "    </tr>\n",
              "    <tr>\n",
              "      <th>8</th>\n",
              "      <td>1029161.7</td>\n",
              "    </tr>\n",
              "    <tr>\n",
              "      <th>9</th>\n",
              "      <td>731528.6</td>\n",
              "    </tr>\n",
              "    <tr>\n",
              "      <th>2</th>\n",
              "      <td>663025.2</td>\n",
              "    </tr>\n",
              "    <tr>\n",
              "      <th>5</th>\n",
              "      <td>575685.2</td>\n",
              "    </tr>\n",
              "    <tr>\n",
              "      <th>6</th>\n",
              "      <td>512286.5</td>\n",
              "    </tr>\n",
              "    <tr>\n",
              "      <th>11</th>\n",
              "      <td>495653.9</td>\n",
              "    </tr>\n",
              "    <tr>\n",
              "      <th>10</th>\n",
              "      <td>385904.2</td>\n",
              "    </tr>\n",
              "    <tr>\n",
              "      <th>3</th>\n",
              "      <td>273887.4</td>\n",
              "    </tr>\n",
              "    <tr>\n",
              "      <th>4</th>\n",
              "      <td>258166.7</td>\n",
              "    </tr>\n",
              "  </tbody>\n",
              "</table>\n",
              "</div>"
            ],
            "text/plain": [
              "               box_off_num\n",
              "release_month             \n",
              "1                1365930.6\n",
              "12               1288247.7\n",
              "7                1113807.2\n",
              "8                1029161.7\n",
              "9                 731528.6\n",
              "2                 663025.2\n",
              "5                 575685.2\n",
              "6                 512286.5\n",
              "11                495653.9\n",
              "10                385904.2\n",
              "3                 273887.4\n",
              "4                 258166.7"
            ]
          },
          "metadata": {},
          "execution_count": 102
        }
      ]
    },
    {
      "cell_type": "code",
      "metadata": {
        "colab": {
          "base_uri": "https://localhost:8080/",
          "height": 310
        },
        "id": "iQ5j66fWcZfe",
        "outputId": "13007dd6-45df-41bd-b39f-af4d9c97b8b3"
      },
      "source": [
        "train[['release_month','box_off_num']].groupby('release_month').mean().sort_values('box_off_num',ascending=False).plot(kind='bar')"
      ],
      "execution_count": 103,
      "outputs": [
        {
          "output_type": "execute_result",
          "data": {
            "text/plain": [
              "<matplotlib.axes._subplots.AxesSubplot at 0x7f0780163c10>"
            ]
          },
          "metadata": {},
          "execution_count": 103
        },
        {
          "output_type": "display_data",
          "data": {
            "image/png": "[encoded data removed]",
            "text/plain": [
              "<Figure size 432x288 with 1 Axes>"
            ]
          },
          "metadata": {
            "needs_background": "light"
          }
        }
      ]
    },
    {
      "cell_type": "markdown",
      "metadata": {
        "id": "nk-uBPGRdLwT"
      },
      "source": [
        "월별 평균 관객수 따져봤을 때 1월,12월,7월,8월 순으로 평균 관객수가 많은 것으로 보아 방학때 개봉하는 영화가 관람객 수가 많은 것을 확인할 수 있다."
      ]
    },
    {
      "cell_type": "markdown",
      "metadata": {
        "id": "un-lAlRDgixP"
      },
      "source": [
        "##3) 영화 장르별 상영등급 "
      ]
    },
    {
      "cell_type": "code",
      "metadata": {
        "colab": {
          "base_uri": "https://localhost:8080/"
        },
        "id": "Wp5bQilqlsyA",
        "outputId": "4b1d4138-8d41-4cb5-aed4-8e3c7bd458ee"
      },
      "source": [
        "train.groupby(['genre','screening_rat']).size()"
      ],
      "execution_count": 125,
      "outputs": [
        {
          "output_type": "execute_result",
          "data": {
            "text/plain": [
              "genre   screening_rat\n",
              "SF      12세 관람가           3\n",
              "        15세 관람가           6\n",
              "        전체 관람가            1\n",
              "        청소년 관람불가          3\n",
              "공포      12세 관람가           1\n",
              "        15세 관람가          19\n",
              "        청소년 관람불가         22\n",
              "느와르     15세 관람가           9\n",
              "        청소년 관람불가         18\n",
              "다큐멘터리   12세 관람가          23\n",
              "        15세 관람가          17\n",
              "        전체 관람가           52\n",
              "        청소년 관람불가          1\n",
              "드라마     12세 관람가          50\n",
              "        15세 관람가          76\n",
              "        전체 관람가           17\n",
              "        청소년 관람불가         78\n",
              "멜로/로맨스  12세 관람가          10\n",
              "        15세 관람가          21\n",
              "        전체 관람가            1\n",
              "        청소년 관람불가         46\n",
              "뮤지컬     12세 관람가           1\n",
              "        전체 관람가            4\n",
              "미스터리    15세 관람가           9\n",
              "        청소년 관람불가          8\n",
              "서스펜스    청소년 관람불가          2\n",
              "애니메이션   12세 관람가           3\n",
              "        15세 관람가           1\n",
              "        전체 관람가           14\n",
              "        청소년 관람불가          3\n",
              "액션      12세 관람가           1\n",
              "        15세 관람가          16\n",
              "        청소년 관람불가         11\n",
              "코미디     12세 관람가          10\n",
              "        15세 관람가          28\n",
              "        전체 관람가            3\n",
              "        청소년 관람불가         12\n",
              "dtype: int64"
            ]
          },
          "metadata": {},
          "execution_count": 125
        }
      ]
    },
    {
      "cell_type": "code",
      "metadata": {
        "colab": {
          "base_uri": "https://localhost:8080/",
          "height": 892
        },
        "id": "48VMGCFomr75",
        "outputId": "0621adfd-80f7-4056-d582-ba8594b26b08"
      },
      "source": [
        "facet =sns.FacetGrid(train,col='genre',col_wrap = 3)\n",
        "facet.map(sns.countplot,'screening_rat')"
      ],
      "execution_count": 131,
      "outputs": [
        {
          "output_type": "execute_result",
          "data": {
            "text/plain": [
              "<seaborn.axisgrid.FacetGrid at 0x7f0775bab490>"
            ]
          },
          "metadata": {},
          "execution_count": 131
        },
        {
          "output_type": "display_data",
          "data": {
            "image/png": "[encoded data removed]",
            "text/plain": [
              "<Figure size 648x864 with 12 Axes>"
            ]
          },
          "metadata": {
            "needs_background": "light"
          }
        }
      ]
    },
    {
      "cell_type": "markdown",
      "metadata": {
        "id": "OcnbYIebu_ke"
      },
      "source": [
        "영화 장르별로 상영등급 순위를 매겨보면 청소년관람불가 등급을 받은 영화수는 드라마,공포,다큐멘터리,멜로/로맨스 순으로 많다."
      ]
    },
    {
      "cell_type": "markdown",
      "metadata": {
        "id": "rfxaENZexS16"
      },
      "source": [
        "##4) 감독의 전작품 수와 현재 작품의 관객수 관계"
      ]
    },
    {
      "cell_type": "code",
      "metadata": {
        "colab": {
          "base_uri": "https://localhost:8080/",
          "height": 308
        },
        "id": "BfR577HLsBsr",
        "outputId": "c4c41199-d2d8-4972-a6a2-677cefab02e9"
      },
      "source": [
        "plt.subplots()\n",
        "sns.regplot(x='dir_prev_num', y='box_off_num',data=train)\n",
        "plt.xlabel('감독의 전작품 개수')\n",
        "plt.ylabel('관객수')"
      ],
      "execution_count": 135,
      "outputs": [
        {
          "output_type": "execute_result",
          "data": {
            "text/plain": [
              "Text(0, 0.5, '관객수')"
            ]
          },
          "metadata": {},
          "execution_count": 135
        },
        {
          "output_type": "display_data",
          "data": {
            "image/png": "[encoded data removed]",
            "text/plain": [
              "<Figure size 432x288 with 1 Axes>"
            ]
          },
          "metadata": {
            "needs_background": "light"
          }
        }
      ]
    },
    {
      "cell_type": "markdown",
      "metadata": {
        "id": "-roAgckQxt7k"
      },
      "source": [
        "감독이 전에 제작에 참여한 영화의 개수와 영화관람객 명수 사이에는 약간의 양의 상관관계가 있음을 확인할 수 있다. "
      ]
    },
    {
      "cell_type": "code",
      "metadata": {
        "id": "WkauiZAtwccW"
      },
      "source": [
        "##5)장르별 평균 스텝수"
      ],
      "execution_count": null,
      "outputs": []
    },
    {
      "cell_type": "code",
      "metadata": {
        "colab": {
          "base_uri": "https://localhost:8080/",
          "height": 457
        },
        "id": "iGPSY6BO1h-5",
        "outputId": "33c59c59-65f7-4090-fc1b-3ca06b65ae5c"
      },
      "source": [
        "train[['genre','num_staff']].groupby('genre').mean().sort_values('num_staff',ascending=False)"
      ],
      "execution_count": 154,
      "outputs": [
        {
          "output_type": "execute_result",
          "data": {
            "text/html": [
              "<div>\n",
              "<style scoped>\n",
              "    .dataframe tbody tr th:only-of-type {\n",
              "        vertical-align: middle;\n",
              "    }\n",
              "\n",
              "    .dataframe tbody tr th {\n",
              "        vertical-align: top;\n",
              "    }\n",
              "\n",
              "    .dataframe thead th {\n",
              "        text-align: right;\n",
              "    }\n",
              "</style>\n",
              "<table border=\"1\" class=\"dataframe\">\n",
              "  <thead>\n",
              "    <tr style=\"text-align: right;\">\n",
              "      <th></th>\n",
              "      <th>num_staff</th>\n",
              "    </tr>\n",
              "    <tr>\n",
              "      <th>genre</th>\n",
              "      <th></th>\n",
              "    </tr>\n",
              "  </thead>\n",
              "  <tbody>\n",
              "    <tr>\n",
              "      <th>액션</th>\n",
              "      <td>337.5</td>\n",
              "    </tr>\n",
              "    <tr>\n",
              "      <th>느와르</th>\n",
              "      <td>311.1</td>\n",
              "    </tr>\n",
              "    <tr>\n",
              "      <th>코미디</th>\n",
              "      <td>209.1</td>\n",
              "    </tr>\n",
              "    <tr>\n",
              "      <th>SF</th>\n",
              "      <td>197.3</td>\n",
              "    </tr>\n",
              "    <tr>\n",
              "      <th>공포</th>\n",
              "      <td>176.4</td>\n",
              "    </tr>\n",
              "    <tr>\n",
              "      <th>드라마</th>\n",
              "      <td>164.5</td>\n",
              "    </tr>\n",
              "    <tr>\n",
              "      <th>멜로/로맨스</th>\n",
              "      <td>135.8</td>\n",
              "    </tr>\n",
              "    <tr>\n",
              "      <th>미스터리</th>\n",
              "      <td>117.4</td>\n",
              "    </tr>\n",
              "    <tr>\n",
              "      <th>서스펜스</th>\n",
              "      <td>111.0</td>\n",
              "    </tr>\n",
              "    <tr>\n",
              "      <th>애니메이션</th>\n",
              "      <td>44.6</td>\n",
              "    </tr>\n",
              "    <tr>\n",
              "      <th>다큐멘터리</th>\n",
              "      <td>17.8</td>\n",
              "    </tr>\n",
              "    <tr>\n",
              "      <th>뮤지컬</th>\n",
              "      <td>2.2</td>\n",
              "    </tr>\n",
              "  </tbody>\n",
              "</table>\n",
              "</div>"
            ],
            "text/plain": [
              "        num_staff\n",
              "genre            \n",
              "액션          337.5\n",
              "느와르         311.1\n",
              "코미디         209.1\n",
              "SF          197.3\n",
              "공포          176.4\n",
              "드라마         164.5\n",
              "멜로/로맨스      135.8\n",
              "미스터리        117.4\n",
              "서스펜스        111.0\n",
              "애니메이션        44.6\n",
              "다큐멘터리        17.8\n",
              "뮤지컬           2.2"
            ]
          },
          "metadata": {},
          "execution_count": 154
        }
      ]
    },
    {
      "cell_type": "code",
      "metadata": {
        "colab": {
          "base_uri": "https://localhost:8080/",
          "height": 338
        },
        "id": "RoSaobSQ1mbE",
        "outputId": "23492bc3-ceff-4a4a-bcdd-fc46b2e36dbb"
      },
      "source": [
        "train[['genre','num_staff']].groupby('genre').mean().sort_values('num_staff',ascending=False).plot(kind='bar')"
      ],
      "execution_count": 155,
      "outputs": [
        {
          "output_type": "execute_result",
          "data": {
            "text/plain": [
              "<matplotlib.axes._subplots.AxesSubplot at 0x7f077549f350>"
            ]
          },
          "metadata": {},
          "execution_count": 155
        },
        {
          "output_type": "display_data",
          "data": {
            "image/png": "[encoded data removed]",
            "text/plain": [
              "<Figure size 432x288 with 1 Axes>"
            ]
          },
          "metadata": {
            "needs_background": "light"
          }
        }
      ]
    },
    {
      "cell_type": "markdown",
      "metadata": {
        "id": "2rdaCA1r5s6v"
      },
      "source": [
        "장르별로 평균 스텝수를 따져봤을 때 평균 스텝수는 액션,느와르,코미디,SF 순으로 많다. 특히 평균 스텝수가 액션, 느와르가 다른 장르들에 비해 비교적 많은 스텝들이 필요함을 알 수 있다."
      ]
    }
  ]
}
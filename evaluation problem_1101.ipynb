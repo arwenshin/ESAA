{
 "cells": [
  {
   "cell_type": "code",
   "execution_count": 2,
   "metadata": {
    "id": "4Zqc4O_BfWqZ"
   },
   "outputs": [
    {
     "name": "stderr",
     "output_type": "stream",
     "text": [
      "C:\\Users\\arwen\\anaconda3\\lib\\site-packages\\sklearn\\linear_model\\_logistic.py:762: ConvergenceWarning: lbfgs failed to converge (status=1):\n",
      "STOP: TOTAL NO. of ITERATIONS REACHED LIMIT.\n",
      "\n",
      "Increase the number of iterations (max_iter) or scale the data as shown in:\n",
      "    https://scikit-learn.org/stable/modules/preprocessing.html\n",
      "Please also refer to the documentation for alternative solver options:\n",
      "    https://scikit-learn.org/stable/modules/linear_model.html#logistic-regression\n",
      "  n_iter_i = _check_optimize_result(\n"
     ]
    }
   ],
   "source": [
    "# 모듈 및 데이터 로드 \n",
    "from sklearn.datasets import load_breast_cancer \n",
    "from sklearn.linear_model import LogisticRegression \n",
    "\n",
    "data = load_breast_cancer() \n",
    "\n",
    "# x, y 데이터 생성 \n",
    "X = data.data \n",
    "\n",
    "# 악성을 1, 양성을 0으로 \n",
    "y = 1 - data.target \n",
    "\n",
    "# 특징으로 사용할 데이터를 평균으로 구분하는 10개 열로 축소\n",
    "X = X[:, :10] \n",
    "\n",
    "# 로지스틱 회귀 모델 생성 \n",
    "model_lor = LogisticRegression(solver = 'lbfgs') \n",
    "model_lor.fit(X,y) \n",
    "y_pred = model_lor.predict(X)"
   ]
  },
  {
   "cell_type": "code",
   "execution_count": 3,
   "metadata": {},
   "outputs": [
    {
     "data": {
      "text/plain": [
       "array([[1.799e+01, 1.038e+01, 1.228e+02, ..., 1.471e-01, 2.419e-01,\n",
       "        7.871e-02],\n",
       "       [2.057e+01, 1.777e+01, 1.329e+02, ..., 7.017e-02, 1.812e-01,\n",
       "        5.667e-02],\n",
       "       [1.969e+01, 2.125e+01, 1.300e+02, ..., 1.279e-01, 2.069e-01,\n",
       "        5.999e-02],\n",
       "       ...,\n",
       "       [1.660e+01, 2.808e+01, 1.083e+02, ..., 5.302e-02, 1.590e-01,\n",
       "        5.648e-02],\n",
       "       [2.060e+01, 2.933e+01, 1.401e+02, ..., 1.520e-01, 2.397e-01,\n",
       "        7.016e-02],\n",
       "       [7.760e+00, 2.454e+01, 4.792e+01, ..., 0.000e+00, 1.587e-01,\n",
       "        5.884e-02]])"
      ]
     },
     "execution_count": 3,
     "metadata": {},
     "output_type": "execute_result"
    }
   ],
   "source": [
    "X"
   ]
  },
  {
   "cell_type": "code",
   "execution_count": 4,
   "metadata": {},
   "outputs": [
    {
     "data": {
      "text/plain": [
       "array([1, 1, 1, 1, 1, 1, 1, 1, 1, 1, 1, 1, 1, 1, 1, 1, 1, 1, 1, 0, 0, 0,\n",
       "       1, 1, 1, 1, 1, 1, 1, 1, 1, 1, 1, 1, 1, 1, 1, 0, 1, 1, 1, 1, 1, 1,\n",
       "       1, 1, 0, 1, 0, 0, 0, 0, 0, 1, 1, 0, 1, 1, 0, 0, 0, 0, 1, 0, 1, 1,\n",
       "       0, 0, 0, 0, 1, 0, 1, 1, 0, 1, 0, 1, 1, 0, 0, 0, 1, 1, 0, 1, 1, 1,\n",
       "       0, 0, 0, 1, 0, 0, 1, 1, 0, 0, 0, 1, 1, 0, 0, 0, 0, 1, 0, 0, 1, 0,\n",
       "       0, 0, 0, 0, 0, 0, 0, 1, 1, 1, 0, 1, 1, 0, 0, 0, 1, 1, 0, 1, 0, 1,\n",
       "       1, 0, 1, 1, 0, 0, 1, 0, 0, 1, 0, 0, 0, 0, 1, 0, 0, 0, 0, 0, 0, 0,\n",
       "       0, 0, 1, 0, 0, 0, 0, 1, 1, 0, 1, 0, 0, 1, 1, 0, 0, 1, 1, 0, 0, 0,\n",
       "       0, 1, 0, 0, 1, 1, 1, 0, 1, 0, 1, 0, 0, 0, 1, 0, 0, 1, 1, 0, 1, 1,\n",
       "       1, 1, 0, 1, 1, 1, 0, 1, 0, 1, 0, 0, 1, 0, 1, 1, 1, 1, 0, 0, 1, 1,\n",
       "       0, 0, 0, 1, 0, 0, 0, 0, 0, 1, 1, 0, 0, 1, 0, 0, 1, 1, 0, 1, 0, 0,\n",
       "       0, 0, 1, 0, 0, 0, 0, 0, 1, 0, 1, 1, 1, 1, 1, 1, 1, 1, 1, 1, 1, 1,\n",
       "       1, 1, 0, 0, 0, 0, 0, 0, 1, 0, 1, 0, 0, 1, 0, 0, 1, 0, 1, 1, 0, 0,\n",
       "       0, 0, 0, 0, 0, 0, 0, 0, 0, 0, 0, 1, 0, 0, 1, 0, 1, 0, 0, 0, 0, 0,\n",
       "       0, 0, 0, 0, 0, 0, 0, 0, 0, 1, 0, 0, 0, 1, 0, 1, 0, 0, 0, 0, 1, 1,\n",
       "       1, 0, 0, 0, 0, 1, 0, 1, 0, 1, 0, 0, 0, 1, 0, 0, 0, 0, 0, 0, 0, 1,\n",
       "       1, 1, 0, 0, 0, 0, 0, 0, 0, 0, 0, 0, 0, 1, 1, 0, 1, 1, 1, 0, 1, 1,\n",
       "       0, 0, 0, 0, 0, 1, 0, 0, 0, 0, 0, 1, 0, 0, 0, 1, 0, 0, 1, 1, 0, 0,\n",
       "       0, 0, 0, 0, 1, 0, 0, 0, 0, 0, 0, 0, 1, 0, 0, 0, 0, 0, 1, 0, 0, 1,\n",
       "       0, 0, 0, 0, 0, 0, 0, 0, 0, 0, 0, 0, 1, 0, 1, 1, 0, 1, 0, 0, 0, 0,\n",
       "       0, 1, 0, 0, 1, 0, 1, 0, 0, 1, 0, 1, 0, 0, 0, 0, 0, 0, 0, 0, 1, 1,\n",
       "       0, 0, 0, 0, 0, 0, 1, 0, 0, 0, 0, 0, 0, 0, 0, 0, 0, 1, 0, 0, 0, 0,\n",
       "       0, 0, 0, 1, 0, 1, 0, 0, 1, 0, 0, 0, 0, 0, 1, 1, 0, 1, 0, 1, 0, 0,\n",
       "       0, 0, 0, 1, 0, 0, 1, 0, 1, 0, 1, 1, 0, 0, 0, 1, 0, 0, 0, 0, 0, 0,\n",
       "       0, 0, 0, 0, 0, 1, 0, 1, 1, 0, 0, 0, 0, 0, 0, 0, 0, 0, 0, 0, 0, 0,\n",
       "       0, 0, 0, 0, 0, 0, 0, 0, 0, 0, 0, 0, 1, 1, 1, 1, 1, 1, 0])"
      ]
     },
     "execution_count": 4,
     "metadata": {},
     "output_type": "execute_result"
    }
   ],
   "source": [
    "y"
   ]
  },
  {
   "cell_type": "markdown",
   "metadata": {
    "id": "faoAfc1ZgAcq"
   },
   "source": [
    "* 오차 행렬(혼동 행렬) 생성"
   ]
  },
  {
   "cell_type": "code",
   "execution_count": 5,
   "metadata": {
    "id": "JdML8YM0gBtu"
   },
   "outputs": [
    {
     "data": {
      "text/plain": [
       "array([[337,  20],\n",
       "       [ 30, 182]], dtype=int64)"
      ]
     },
     "execution_count": 5,
     "metadata": {},
     "output_type": "execute_result"
    }
   ],
   "source": [
    "# 종속 변수와 예측 결과로 혼동 행렬 생성\n",
    "from sklearn.metrics import confusion_matrix\n",
    "confusion_matrix(y,y_pred)"
   ]
  },
  {
   "cell_type": "markdown",
   "metadata": {
    "id": "xbcK3rT-gFRk"
   },
   "source": [
    "* 정확도"
   ]
  },
  {
   "cell_type": "code",
   "execution_count": 7,
   "metadata": {
    "id": "NLiXFuYvgI1e"
   },
   "outputs": [
    {
     "data": {
      "text/plain": [
       "0.9121265377855887"
      ]
     },
     "execution_count": 7,
     "metadata": {},
     "output_type": "execute_result"
    }
   ],
   "source": [
    "from sklearn.metrics import accuracy_score\n",
    "accuracy_score(y,y_pred)"
   ]
  },
  {
   "cell_type": "markdown",
   "metadata": {
    "id": "UYnVZS9igNNf"
   },
   "source": [
    "* 정밀도"
   ]
  },
  {
   "cell_type": "code",
   "execution_count": 8,
   "metadata": {
    "id": "j108NueLgMKF"
   },
   "outputs": [
    {
     "data": {
      "text/plain": [
       "0.900990099009901"
      ]
     },
     "execution_count": 8,
     "metadata": {},
     "output_type": "execute_result"
    }
   ],
   "source": [
    "from sklearn.metrics import precision_score\n",
    "precision_score(y,y_pred)"
   ]
  },
  {
   "cell_type": "markdown",
   "metadata": {
    "id": "2-MBquNJZOM4"
   },
   "source": [
    "* 재현율"
   ]
  },
  {
   "cell_type": "code",
   "execution_count": 9,
   "metadata": {
    "id": "uje4ivPvZPwv"
   },
   "outputs": [
    {
     "data": {
      "text/plain": [
       "0.8584905660377359"
      ]
     },
     "execution_count": 9,
     "metadata": {},
     "output_type": "execute_result"
    }
   ],
   "source": [
    "from sklearn.metrics import recall_score\n",
    "recall_score(y,y_pred)"
   ]
  },
  {
   "cell_type": "markdown",
   "metadata": {
    "id": "Cw1p3yjagUCH"
   },
   "source": [
    "* F1 score"
   ]
  },
  {
   "cell_type": "code",
   "execution_count": 10,
   "metadata": {
    "id": "hPdtYdoDgYgV"
   },
   "outputs": [
    {
     "data": {
      "text/plain": [
       "0.8792270531400966"
      ]
     },
     "execution_count": 10,
     "metadata": {},
     "output_type": "execute_result"
    }
   ],
   "source": [
    "from sklearn.metrics import f1_score\n",
    "f1_score(y,y_pred)"
   ]
  },
  {
   "cell_type": "markdown",
   "metadata": {
    "id": "fzwIFsKOW5a1"
   },
   "source": [
    "* 예측 확률(pred_proba) : 0으로 예측할 확률이 0.1보다 크면 y_pred2 에 넣는다 가정."
   ]
  },
  {
   "cell_type": "code",
   "execution_count": 18,
   "metadata": {
    "id": "nw9dxOiPW40l"
   },
   "outputs": [],
   "source": [
    "from sklearn.preprocessing import Binarizer\n",
    "pred_proba = model_lor.predict_proba(X)\n",
    "custom_threshold = 0.1\n",
    "pred_proba_1 = pred_proba[:,1].reshape(-1,1)\n",
    "binarizer = Binarizer(threshold = custom_threshold).fit(pred_proba_1)\n",
    "y_pred2 = binarizer.transform(pred_proba_1)"
   ]
  },
  {
   "cell_type": "code",
   "execution_count": 23,
   "metadata": {
    "id": "Y-WrHrICYFB1"
   },
   "outputs": [],
   "source": [
    "# y과 y_pred2의 혼동행렬, 정확도, 정밀도, 재현율, f1 score 구하기\n",
    "confusion = confusion_matrix(y,y_pred2)\n",
    "accuracy = accuracy_score(y,y_pred2)\n",
    "precision = precision_score(y,y_pred2)\n",
    "recall = recall_score(y,y_pred2)\n",
    "f1 = f1_score(y,y_pred2)"
   ]
  },
  {
   "cell_type": "code",
   "execution_count": 24,
   "metadata": {},
   "outputs": [
    {
     "name": "stdout",
     "output_type": "stream",
     "text": [
      "혼동행렬:[[267  90]\n",
      " [  6 206]],정확도:0.8312829525483304,정밀도:0.6959459459459459,재현율 0.9716981132075472,f1:0.8110236220472441\n"
     ]
    }
   ],
   "source": [
    "print(\"혼동행렬:{},정확도:{},정밀도:{},재현율 {},f1:{}\".format(confusion,accuracy,precision,recall,f1))"
   ]
  },
  {
   "cell_type": "markdown",
   "metadata": {
    "id": "itgf_OjsjU-R"
   },
   "source": [
    "* ROC 곡선 시각화"
   ]
  },
  {
   "cell_type": "code",
   "execution_count": 26,
   "metadata": {
    "id": "DW75xBokjXKy"
   },
   "outputs": [],
   "source": [
    "from sklearn.metrics import roc_curve \n",
    "pred_proba_class1 = model_lor.predict_proba(X)[:,1]\n",
    "fprs,tprs,thresholds = roc_curve(y,pred_proba_class1)"
   ]
  },
  {
   "cell_type": "code",
   "execution_count": 27,
   "metadata": {
    "id": "CSJ69SGJVh7m"
   },
   "outputs": [
    {
     "data": {
      "text/plain": [
       "[<matplotlib.lines.Line2D at 0x1bbd37df1c0>]"
      ]
     },
     "execution_count": 27,
     "metadata": {},
     "output_type": "execute_result"
    },
    {
     "data": {
      "image/png": "[encoded data removed]",
      "text/plain": [
       "<Figure size 432x288 with 1 Axes>"
      ]
     },
     "metadata": {
      "needs_background": "light"
     },
     "output_type": "display_data"
    }
   ],
   "source": [
    "import matplotlib.pyplot as plt \n",
    "plt.plot(fprs,tprs,label='ROC')"
   ]
  },
  {
   "cell_type": "markdown",
   "metadata": {
    "id": "fL4as0YsWYD7"
   },
   "source": [
    "* ROC AUC 값"
   ]
  },
  {
   "cell_type": "code",
   "execution_count": 30,
   "metadata": {
    "id": "-SEElVZTWaVp"
   },
   "outputs": [
    {
     "data": {
      "text/plain": [
       "0.9741557000158554"
      ]
     },
     "execution_count": 30,
     "metadata": {},
     "output_type": "execute_result"
    }
   ],
   "source": [
    "from sklearn.metrics import roc_auc_score\n",
    "roc_auc_score(y,pred_proba[:,1])"
   ]
  },
  {
   "cell_type": "code",
   "execution_count": null,
   "metadata": {},
   "outputs": [],
   "source": []
  }
 ],
 "metadata": {
  "colab": {
   "collapsed_sections": [],
   "name": "평가.ipynb",
   "provenance": []
  },
  "kernelspec": {
   "display_name": "Python 3",
   "language": "python",
   "name": "python3"
  },
  "language_info": {
   "codemirror_mode": {
    "name": "ipython",
    "version": 3
   },
   "file_extension": ".py",
   "mimetype": "text/x-python",
   "name": "python",
   "nbconvert_exporter": "python",
   "pygments_lexer": "ipython3",
   "version": "3.8.5"
  }
 },
 "nbformat": 4,
 "nbformat_minor": 1
}
